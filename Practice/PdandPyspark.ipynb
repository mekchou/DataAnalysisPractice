{
 "cells": [
  {
   "cell_type": "code",
   "execution_count": 3,
   "metadata": {},
   "outputs": [],
   "source": [
    "import pandas as pd\n",
    "# import numpy as np\n",
    "from sqlalchemy import create_engine\n"
   ]
  },
  {
   "cell_type": "code",
   "execution_count": 11,
   "metadata": {},
   "outputs": [],
   "source": [
    "\n",
    "# Define the connection parameters\n",
    "server = 'localhost'\n",
    "database = 'ContosoRetailDW'\n",
    "username = 'Mek'\n",
    "password = 'Asdmkpzxc01'\n",
    "\n",
    "# Create the connection string\n",
    "conn_str = f\"mssql+pyodbc://{username}:{password}@{server}/{database}?driver=ODBC+Driver+17+for+SQL+Server\"\n",
    "\n",
    "# Create the SQLAlchemy engine\n",
    "engine = create_engine(conn_str)\n",
    "\n",
    "\n"
   ]
  },
  {
   "cell_type": "code",
   "execution_count": 23,
   "metadata": {},
   "outputs": [
    {
     "data": {
      "text/html": [
       "<div>\n",
       "<style scoped>\n",
       "    .dataframe tbody tr th:only-of-type {\n",
       "        vertical-align: middle;\n",
       "    }\n",
       "\n",
       "    .dataframe tbody tr th {\n",
       "        vertical-align: top;\n",
       "    }\n",
       "\n",
       "    .dataframe thead th {\n",
       "        text-align: right;\n",
       "    }\n",
       "</style>\n",
       "<table border=\"1\" class=\"dataframe\">\n",
       "  <thead>\n",
       "    <tr style=\"text-align: right;\">\n",
       "      <th></th>\n",
       "      <th>ChannelKey</th>\n",
       "      <th>ChannelLabel</th>\n",
       "      <th>ChannelName</th>\n",
       "      <th>ChannelDescription</th>\n",
       "      <th>ETLLoadID</th>\n",
       "      <th>LoadDate</th>\n",
       "      <th>UpdateDate</th>\n",
       "    </tr>\n",
       "  </thead>\n",
       "  <tbody>\n",
       "    <tr>\n",
       "      <th>0</th>\n",
       "      <td>1</td>\n",
       "      <td>01</td>\n",
       "      <td>Store</td>\n",
       "      <td>Store</td>\n",
       "      <td>1</td>\n",
       "      <td>2009-07-11 14:43:19</td>\n",
       "      <td>2009-07-11 14:43:19</td>\n",
       "    </tr>\n",
       "    <tr>\n",
       "      <th>1</th>\n",
       "      <td>2</td>\n",
       "      <td>02</td>\n",
       "      <td>Online</td>\n",
       "      <td>Online</td>\n",
       "      <td>1</td>\n",
       "      <td>2009-07-11 14:43:19</td>\n",
       "      <td>2009-07-11 14:43:19</td>\n",
       "    </tr>\n",
       "    <tr>\n",
       "      <th>2</th>\n",
       "      <td>3</td>\n",
       "      <td>03</td>\n",
       "      <td>Catalog</td>\n",
       "      <td>Catalog</td>\n",
       "      <td>1</td>\n",
       "      <td>2009-07-11 14:43:19</td>\n",
       "      <td>2009-07-11 14:43:19</td>\n",
       "    </tr>\n",
       "    <tr>\n",
       "      <th>3</th>\n",
       "      <td>4</td>\n",
       "      <td>04</td>\n",
       "      <td>Reseller</td>\n",
       "      <td>Reseller</td>\n",
       "      <td>1</td>\n",
       "      <td>2009-07-11 14:43:19</td>\n",
       "      <td>2009-07-11 14:43:19</td>\n",
       "    </tr>\n",
       "  </tbody>\n",
       "</table>\n",
       "</div>"
      ],
      "text/plain": [
       "   ChannelKey ChannelLabel ChannelName ChannelDescription  ETLLoadID  \\\n",
       "0           1           01       Store              Store          1   \n",
       "1           2           02      Online             Online          1   \n",
       "2           3           03     Catalog            Catalog          1   \n",
       "3           4           04    Reseller           Reseller          1   \n",
       "\n",
       "             LoadDate          UpdateDate  \n",
       "0 2009-07-11 14:43:19 2009-07-11 14:43:19  \n",
       "1 2009-07-11 14:43:19 2009-07-11 14:43:19  \n",
       "2 2009-07-11 14:43:19 2009-07-11 14:43:19  \n",
       "3 2009-07-11 14:43:19 2009-07-11 14:43:19  "
      ]
     },
     "execution_count": 23,
     "metadata": {},
     "output_type": "execute_result"
    }
   ],
   "source": [
    "# with engine.connect()\n",
    "# Define the SQL query\n",
    "query = \"SELECT * FROM dbo.DimChannel\"\n",
    "\n",
    "# Load the data into a pandas DataFrame\n",
    "df = pd.read_sql(query, engine)\n",
    "\n",
    "# Display the DataFrame\n",
    "df.head()"
   ]
  },
  {
   "cell_type": "code",
   "execution_count": 24,
   "metadata": {},
   "outputs": [
    {
     "data": {
      "text/html": [
       "<div>\n",
       "<style scoped>\n",
       "    .dataframe tbody tr th:only-of-type {\n",
       "        vertical-align: middle;\n",
       "    }\n",
       "\n",
       "    .dataframe tbody tr th {\n",
       "        vertical-align: top;\n",
       "    }\n",
       "\n",
       "    .dataframe thead th {\n",
       "        text-align: right;\n",
       "    }\n",
       "</style>\n",
       "<table border=\"1\" class=\"dataframe\">\n",
       "  <thead>\n",
       "    <tr style=\"text-align: right;\">\n",
       "      <th></th>\n",
       "      <th>ChannelKey</th>\n",
       "      <th>ChannelLabel</th>\n",
       "      <th>ChannelName</th>\n",
       "      <th>ChannelDescription</th>\n",
       "      <th>ETLLoadID</th>\n",
       "      <th>LoadDate</th>\n",
       "      <th>UpdateDate</th>\n",
       "    </tr>\n",
       "  </thead>\n",
       "  <tbody>\n",
       "    <tr>\n",
       "      <th>0</th>\n",
       "      <td>1</td>\n",
       "      <td>01</td>\n",
       "      <td>Store</td>\n",
       "      <td>Store</td>\n",
       "      <td>1</td>\n",
       "      <td>2009-07-11 14:43:19</td>\n",
       "      <td>2009-07-11 14:43:19</td>\n",
       "    </tr>\n",
       "    <tr>\n",
       "      <th>1</th>\n",
       "      <td>2</td>\n",
       "      <td>02</td>\n",
       "      <td>Online</td>\n",
       "      <td>Online</td>\n",
       "      <td>1</td>\n",
       "      <td>2009-07-11 14:43:19</td>\n",
       "      <td>2009-07-11 14:43:19</td>\n",
       "    </tr>\n",
       "    <tr>\n",
       "      <th>2</th>\n",
       "      <td>3</td>\n",
       "      <td>03</td>\n",
       "      <td>Catalog</td>\n",
       "      <td>Catalog</td>\n",
       "      <td>1</td>\n",
       "      <td>2009-07-11 14:43:19</td>\n",
       "      <td>2009-07-11 14:43:19</td>\n",
       "    </tr>\n",
       "    <tr>\n",
       "      <th>3</th>\n",
       "      <td>4</td>\n",
       "      <td>04</td>\n",
       "      <td>Reseller</td>\n",
       "      <td>Reseller</td>\n",
       "      <td>1</td>\n",
       "      <td>2009-07-11 14:43:19</td>\n",
       "      <td>2009-07-11 14:43:19</td>\n",
       "    </tr>\n",
       "  </tbody>\n",
       "</table>\n",
       "</div>"
      ],
      "text/plain": [
       "   ChannelKey ChannelLabel ChannelName ChannelDescription  ETLLoadID  \\\n",
       "0           1           01       Store              Store          1   \n",
       "1           2           02      Online             Online          1   \n",
       "2           3           03     Catalog            Catalog          1   \n",
       "3           4           04    Reseller           Reseller          1   \n",
       "\n",
       "             LoadDate          UpdateDate  \n",
       "0 2009-07-11 14:43:19 2009-07-11 14:43:19  \n",
       "1 2009-07-11 14:43:19 2009-07-11 14:43:19  \n",
       "2 2009-07-11 14:43:19 2009-07-11 14:43:19  \n",
       "3 2009-07-11 14:43:19 2009-07-11 14:43:19  "
      ]
     },
     "execution_count": 24,
     "metadata": {},
     "output_type": "execute_result"
    }
   ],
   "source": [
    "df.head()"
   ]
  },
  {
   "cell_type": "code",
   "execution_count": 13,
   "metadata": {},
   "outputs": [],
   "source": [
    "import findspark\n",
    "findspark.init()"
   ]
  },
  {
   "cell_type": "code",
   "execution_count": 14,
   "metadata": {},
   "outputs": [],
   "source": [
    "import pandas as pd\n",
    "from pyspark import SparkContext, SparkConf\n",
    "from pyspark.sql import SparkSession"
   ]
  },
  {
   "cell_type": "code",
   "execution_count": 16,
   "metadata": {},
   "outputs": [],
   "source": [
    "# create spark session\n",
    "spark = SparkSession \\\n",
    "    .builder \\\n",
    "    .appName(\"Python Spark DataFrames basic example\") \\\n",
    "    .config(\"spark.executor.memory\", \"16g\") \\\n",
    "    .config(\"spark.executor.cores\", \"6\") \\\n",
    "    .config(\"spark.driver.memory\", \"16g\") \\\n",
    "    .config(\"spark.sql.shuffle.partitions\", \"6\")\\\n",
    "    .config(\"spark.jars.packages\", \"com.microsoft.sqlserver:mssql-jdbc:12.6.2.jre8\") \\\n",
    "    .getOrCreate()"
   ]
  },
  {
   "cell_type": "code",
   "execution_count": 17,
   "metadata": {},
   "outputs": [],
   "source": [
    "# Define the connection parameters\n",
    "\n",
    "jdbc_url = f\"jdbc:sqlserver://{server};databaseName={database}\"\n",
    "connection_properties = {\n",
    "    \"user\": username,\n",
    "    \"password\": password,\n",
    "    \"driver\": \"com.microsoft.sqlserver.jdbc.SQLServerDriver\"\n",
    "}\n"
   ]
  },
  {
   "cell_type": "code",
   "execution_count": 26,
   "metadata": {},
   "outputs": [
    {
     "name": "stdout",
     "output_type": "stream",
     "text": [
      "+----------+------------+-----------+------------------+---------+-------------------+-------------------+\n",
      "|ChannelKey|ChannelLabel|ChannelName|ChannelDescription|ETLLoadID|           LoadDate|         UpdateDate|\n",
      "+----------+------------+-----------+------------------+---------+-------------------+-------------------+\n",
      "|         1|          01|      Store|             Store|        1|2009-07-11 14:43:19|2009-07-11 14:43:19|\n",
      "|         2|          02|     Online|            Online|        1|2009-07-11 14:43:19|2009-07-11 14:43:19|\n",
      "|         3|          03|    Catalog|           Catalog|        1|2009-07-11 14:43:19|2009-07-11 14:43:19|\n",
      "|         4|          04|   Reseller|          Reseller|        1|2009-07-11 14:43:19|2009-07-11 14:43:19|\n",
      "+----------+------------+-----------+------------------+---------+-------------------+-------------------+\n",
      "\n"
     ]
    }
   ],
   "source": [
    "# Read the table into a Spark DataFrame\n",
    "sdf = spark.createDataFrame(df)\n",
    "sdf.show()\n"
   ]
  },
  {
   "cell_type": "code",
   "execution_count": 2,
   "metadata": {},
   "outputs": [
    {
     "ename": "NameError",
     "evalue": "name 'spark' is not defined",
     "output_type": "error",
     "traceback": [
      "\u001b[1;31m---------------------------------------------------------------------------\u001b[0m",
      "\u001b[1;31mNameError\u001b[0m                                 Traceback (most recent call last)",
      "Cell \u001b[1;32mIn[2], line 1\u001b[0m\n\u001b[1;32m----> 1\u001b[0m \u001b[43mspark\u001b[49m\u001b[38;5;241m.\u001b[39mstop()\n",
      "\u001b[1;31mNameError\u001b[0m: name 'spark' is not defined"
     ]
    }
   ],
   "source": [
    "spark"
   ]
  }
 ],
 "metadata": {
  "kernelspec": {
   "display_name": ".venv",
   "language": "python",
   "name": "python3"
  },
  "language_info": {
   "codemirror_mode": {
    "name": "ipython",
    "version": 3
   },
   "file_extension": ".py",
   "mimetype": "text/x-python",
   "name": "python",
   "nbconvert_exporter": "python",
   "pygments_lexer": "ipython3",
   "version": "3.11.9"
  }
 },
 "nbformat": 4,
 "nbformat_minor": 2
}
